{
 "cells": [
  {
   "cell_type": "code",
   "execution_count": 217,
   "metadata": {},
   "outputs": [],
   "source": [
    "### TODO import libraries and apply overlay\n",
    "from PIL import Image\n",
    "import glob\n",
    "import numpy as np\n",
    "import matplotlib.pyplot as plt\n",
    "%matplotlib inline\n",
    "from pynq import allocate, Overlay"
   ]
  },
  {
   "cell_type": "code",
   "execution_count": 218,
   "metadata": {},
   "outputs": [],
   "source": [
    "out_img_h = 64\n",
    "out_img_w = 64\n",
    "image_list = []"
   ]
  },
  {
   "cell_type": "code",
   "execution_count": 219,
   "metadata": {},
   "outputs": [],
   "source": [
    "### TODO download cat images into the folder `cats/`\n",
    "def fetch_images():\n",
    "    for fName in glob.glob('images/*.jpg'):\n",
    "        im = Image.open(fName)\n",
    "        image_list.append(im)"
   ]
  },
  {
   "cell_type": "code",
   "execution_count": 220,
   "metadata": {},
   "outputs": [],
   "source": [
    "# image_in, image_out: PIL.Image\n",
    "# image_out_size: (width, height)\n",
    "def fpga_resize(image_in, image_out_size):\n",
    "    ### YOUR CODE HERE\n",
    "    ## Initialisation of DMA\n",
    "    resize_design = Overlay(\"resizer.bit\")\n",
    "    dma = resize_design.axi_dma_0\n",
    "    resizer = resize_design.resize_accel_0\n",
    "\n",
    "    img_ip_w, img_ip_h = image_in.size\n",
    "    ## img_op_h, img_op_w = image_out_size.size\n",
    "    in_buffer = allocate (shape=(img_ip_h,img_ip_w,3), dtype=np.uint8, cacheable=1)\n",
    "    out_buffer = allocate (shape=(out_img_h,out_img_w,3), dtype=np.uint8, cacheable=1)\n",
    "    \n",
    "    in_buffer[:] = np.array(image_in)\n",
    " \n",
    "    ##Run the resizer function\n",
    "    def run_kernel():\n",
    "        dma.sendchannel.transfer(in_buffer)\n",
    "        dma.recvchannel.transfer(out_buffer)    \n",
    "        resizer.write(0x00,0x81) # start\n",
    "        dma.sendchannel.wait()\n",
    "        dma.recvchannel.wait()\n",
    "    \n",
    "    ##Initialize resizer\n",
    "    resizer.write(0x10, img_ip_h)\n",
    "    resizer.write(0x18, img_ip_w)\n",
    "    resizer.write(0x20, 64)\n",
    "    resizer.write(0x28, 64)\n",
    "    \n",
    "    run_kernel()\n",
    "    image_out = Image.fromarray(out_buffer)\n",
    "    \n",
    "    del in_buffer\n",
    "    del out_buffer\n",
    "    \n",
    "    return image_out"
   ]
  },
  {
   "cell_type": "code",
   "execution_count": 221,
   "metadata": {},
   "outputs": [],
   "source": [
    "def fpga_resize_images(image_paths):\n",
    "    ### YOUR CODE HERE\n",
    "    images = []\n",
    "    for fName in glob.glob(image_paths):\n",
    "        im = Image.open(fName)\n",
    "        temp = fpga_resize(im, 0)\n",
    "        images.append(temp)\n",
    "    \n",
    "    return images"
   ]
  },
  {
   "cell_type": "code",
   "execution_count": 222,
   "metadata": {},
   "outputs": [],
   "source": [
    "def cpu_resize_images(image_paths):\n",
    "    ### YOUR CODE HERE\n",
    "    images = []\n",
    "    for fName in glob.glob(image_paths):\n",
    "        im = Image.open(fName)\n",
    "        images.append(im.resize((64,64), Image.BILINEAR))\n",
    "                           \n",
    "    return images"
   ]
  },
  {
   "cell_type": "code",
   "execution_count": 223,
   "metadata": {},
   "outputs": [],
   "source": [
    "# TODO runtime comparison"
   ]
  },
  {
   "cell_type": "code",
   "execution_count": 224,
   "metadata": {},
   "outputs": [],
   "source": [
    "image_paths = 'images/c*.jpg'"
   ]
  },
  {
   "cell_type": "code",
   "execution_count": 225,
   "metadata": {},
   "outputs": [
    {
     "name": "stdout",
     "output_type": "stream",
     "text": [
      "1 loop, best of 1: 5.71 s per loop\n"
     ]
    }
   ],
   "source": [
    "%%timeit -n1 -r1\n",
    "fpga_img_list = fpga_resize_images(image_paths)"
   ]
  },
  {
   "cell_type": "code",
   "execution_count": 226,
   "metadata": {},
   "outputs": [
    {
     "name": "stdout",
     "output_type": "stream",
     "text": [
      "1 loop, best of 1: 82.8 ms per loop\n"
     ]
    }
   ],
   "source": [
    "%%timeit -n1 -r1\n",
    "cpu_img_list = cpu_resize_images(image_paths)"
   ]
  },
  {
   "cell_type": "code",
   "execution_count": 227,
   "metadata": {},
   "outputs": [],
   "source": [
    "# TODO visualization of comparison values using plots"
   ]
  },
  {
   "cell_type": "code",
   "execution_count": null,
   "metadata": {},
   "outputs": [],
   "source": []
  }
 ],
 "metadata": {
  "kernelspec": {
   "display_name": "Python 3",
   "language": "python",
   "name": "python3"
  },
  "language_info": {
   "codemirror_mode": {
    "name": "ipython",
    "version": 3
   },
   "file_extension": ".py",
   "mimetype": "text/x-python",
   "name": "python",
   "nbconvert_exporter": "python",
   "pygments_lexer": "ipython3",
   "version": "3.6.5"
  }
 },
 "nbformat": 4,
 "nbformat_minor": 4
}
